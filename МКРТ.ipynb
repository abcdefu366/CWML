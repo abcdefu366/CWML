{
  "cells": [
    {
      "cell_type": "markdown",
      "metadata": {},
      "source": [
        "# \u041a\u0443\u0440\u0441\u043e\u0432\u043e\u0439 \u043f\u0440\u043e\u0435\u043a\u0442: \u0414\u0435\u0442\u0435\u043a\u0446\u0438\u044f \u043a\u043b\u0435\u0442\u043e\u043a \u043c\u0430\u043b\u044f\u0440\u0438\u0438 \u0441 \u0438\u0441\u043f\u043e\u043b\u044c\u0437\u043e\u0432\u0430\u043d\u0438\u0435\u043c Faster R-CNN\n",
        "\n",
        "\u0410\u0432\u0442\u043e\u0440\u044b: \u0421\u0430\u043d\u043d\u0438\u043a\u043e\u0432 \u041c\u0430\u043a\u0441\u0438\u043c \u0412\u0438\u0442\u0430\u043b\u044c\u0435\u0432\u0438\u0447, \u0421\u043c\u0438\u0440\u043d\u043e\u0432 \u0418\u0433\u043e\u0440\u044c \u0421\u0435\u0440\u0433\u0435\u0435\u0432\u0438\u0447\n"
      ]
    },
    {
      "cell_type": "code",
      "execution_count": null,
      "metadata": {},
      "outputs": [],
      "source": [
        "# \ud83d\udce6 \u0423\u0441\u0442\u0430\u043d\u043e\u0432\u043a\u0430 \u0431\u0438\u0431\u043b\u0438\u043e\u0442\u0435\u043a\n",
        "!pip install -U pip\n",
        "!pip install kaggle\n",
        "!pip install -U torch torchvision\n",
        "!pip install git+https://github.com/facebookresearch/detectron2.git"
      ]
    },
    {
      "cell_type": "code",
      "execution_count": null,
      "metadata": {},
      "outputs": [],
      "source": [
        "# \ud83d\udd11 \u041d\u0430\u0441\u0442\u0440\u043e\u0439\u043a\u0430 Kaggle API\n",
        "import shutil\n",
        "from pathlib import Path\n",
        "\n",
        "Path(\"/root/.kaggle\").mkdir(parents=True, exist_ok=True)\n",
        "shutil.copy(\"kaggle.json\", \"/root/.kaggle/kaggle.json\")\n",
        "!chmod 600 /root/.kaggle/kaggle.json"
      ]
    },
    {
      "cell_type": "code",
      "execution_count": null,
      "metadata": {},
      "outputs": [],
      "source": [
        "# \ud83d\udce5 \u0417\u0430\u0433\u0440\u0443\u0437\u043a\u0430 \u0434\u0430\u0442\u0430\u0441\u0435\u0442\u0430\n",
        "!kaggle datasets download -d kmader/malaria-bounding-boxes\n",
        "!unzip -qo malaria-bounding-boxes.zip -d malaria"
      ]
    },
    {
      "cell_type": "markdown",
      "metadata": {},
      "source": [
        "\u2b06\ufe0f \u0414\u0430\u043b\u0435\u0435 \u0441\u043b\u0435\u0434\u0443\u0435\u0442 \u0431\u043b\u043e\u043a \u0441 \u043a\u043e\u043d\u0432\u0435\u0440\u0442\u0430\u0446\u0438\u0435\u0439 \u0432 COCO, \u0440\u0435\u0433\u0438\u0441\u0442\u0440\u0430\u0446\u0438\u0435\u0439 \u0438 \u043e\u0431\u0443\u0447\u0435\u043d\u0438\u0435\u043c \u043c\u043e\u0434\u0435\u043b\u0438 (\u0441\u043c. `train_model.py`)"
      ]
    }
  ],
  "metadata": {
    "kernelspec": {
      "display_name": "Python 3",
      "language": "python",
      "name": "python3"
    },
    "language_info": {
      "name": "python",
      "version": ""
    }
  },
  "nbformat": 4,
  "nbformat_minor": 5
}